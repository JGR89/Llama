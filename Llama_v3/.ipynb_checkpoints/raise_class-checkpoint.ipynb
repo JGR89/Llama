{
 "cells": [
  {
   "cell_type": "code",
   "execution_count": 6,
   "metadata": {
    "collapsed": true
   },
   "outputs": [],
   "source": [
    "class raise_sim:\n",
    "    \"\"\"Creates a RAiSE object.\n",
    "    Inputs are:\n",
    "    - RAiSE folder name (i.e. where the simulation is)\n",
    "    - RAiSE file name (so eventually we can iterate over file names and make many raise objects)\n",
    "    - redshift of source (as above)\n",
    "    - log10 of the source luminosity [W / Hz] (as above)\n",
    "    - beam diameter of mock observation (i.e. primary beam diameter in arcsec)\n",
    "    \"\"\"\n",
    "    \n",
    "    def LDtrack_age_luminosity_size_entry(self,\n",
    "                                          LDtrack_fname,\n",
    "                                          input_age,\n",
    "                                          frequency):\n",
    "        \"\"\"\n",
    "        Gets closest age match for a source in a RAiSE LD track file.\n",
    "\n",
    "        Inputs:\n",
    "        - LDtrack file\n",
    "        - age\n",
    "        - frequency\n",
    "\n",
    "        When\n",
    "        age(n) <= input_age < age(n+1)\n",
    "        then input_age = age(n) (i.e. the smallest, closest entry)\n",
    "\n",
    "        Returns: table_index, age, luminosity (at desired frequency)\n",
    "\n",
    "        \"\"\"\n",
    "        from astropy.table import Table\n",
    "        import bisect\n",
    "        #LDtrack_fname = self.LDtrack_fname\n",
    "        #input_age = self.input_age\n",
    "        #frequency = self.frequency\n",
    "\n",
    "        LDtrack_table = Table.read(LDtrack_fname, format='ascii')\n",
    "\n",
    "        ages = LDtrack_table['Time (yrs)'].data\n",
    "        i = bisect.bisect_left(ages,self.input_age)    \n",
    "        if i == 0:\n",
    "            index = i #otherwise it'll give us the age at the end of the table when index = i-1\n",
    "        else:\n",
    "            index = i-1\n",
    "\n",
    "        age = ages[index]\n",
    "\n",
    "        #Find size of the source (in kpc)\n",
    "        size_col_index = LDtrack_table.colnames.index('Size (kpc)')\n",
    "        size = LDtrack_table[index][size_col_index]\n",
    "\n",
    "        #Find luminosity for this age source, at given freq\n",
    "\n",
    "        luminosity_freq_col_index = LDtrack_table.colnames.index(('L{} (W/Hz)').format(str(self.frequency)))\n",
    "        luminosity = LDtrack_table[index][luminosity_freq_col_index]\n",
    "\n",
    "        return index, age, luminosity, size\n",
    "    \n",
    "    def __init__(self,\n",
    "                 SB_filename,\n",
    "                 LD_filename,\n",
    "                 redshift,\n",
    "                 input_age,\n",
    "                 frequency,\n",
    "                 beam_diameter):\n",
    "        \n",
    "        import numpy as np\n",
    "        from astropy.cosmology import Planck15 as cosmo\n",
    "        import astropy.units as u\n",
    "        from astropy.table import Table\n",
    "        self.SB_filename = str(SB_filename)\n",
    "        self.LD_filename = str(LD_filename)\n",
    "    \n",
    "        #Source info\n",
    "        self.z = redshift\n",
    "        self.frequency = frequency\n",
    "        self.input_age = input_age\n",
    "        self.DL = cosmo.luminosity_distance(self.z)\n",
    "        self.LDtrack_index, self.source_age, self.luminosity, self.source_size = self.LDtrack_age_luminosity_size_entry(self.LD_filename, self.input_age, self.frequency)\n",
    "        self.beam_diameter = beam_diameter\n",
    "        \n",
    "        #Various grids and derived source values\n",
    "        self.surfBrightMap = np.loadtxt(fname=self.SB_filename,delimiter=\"\t\") #mJy/beam\n",
    "        \n",
    "        self.grid_length = self.surfBrightMap.shape[0]\n",
    "        self.grid_height = self.surfBrightMap.shape[1]\n",
    "        self.surfBrightMap_integrated = sum(self.surfBrightMap.flatten()) #[mJy/beam * npix]\n",
    "        \n",
    "       \n",
    "        #Spatial conversions\n",
    "        self.arcsec_per_kpc = cosmo.arcsec_per_kpc_proper(redshift) #do I want proper or comoving?\n",
    "        self.kpc_per_pixel = self.source_size/self.grid_length\n",
    "        self.arcsec_per_pixel = self.arcsec_per_kpc*self.kpc_per_pixel\n",
    "        self.cell_area = self.arcsec_per_pixel**2\n",
    "        \n",
    "        #Calculate source flux\n",
    "        self.luminosityMap = (self.luminosity)*(self.surfBrightMap/self.surfBrightMap_integrated)\n",
    "        self.flux = self.luminosityMap/(4*np.pi*(self.DL.to(u.m))**2)*(u.W/u.Hz)\n",
    "        \n",
    "        #Normalise by beam (i.e * by beam area/cell area)\n",
    "        self.beam_area = np.pi*(self.beam_diameter/2)**2 #Beam area in arcsec^2                                               \n",
    "        self.flux_beam_normalised = (self.flux/self.beam_area).to(u.Jy) #flux with each cell weighted by ratio of beam size/pixel size\n",
    "                                        \n",
    "        return"
   ]
  },
  {
   "cell_type": "code",
   "execution_count": 11,
   "metadata": {},
   "outputs": [
    {
     "name": "stderr",
     "output_type": "stream",
     "text": [
      "WARNING: OverflowError converting to FloatType in column Mach Minor, possibly resulting in degraded precision. [astropy.io.ascii.fastbasic]\n",
      "/Users/Jonathan/Library/Python/2.7/lib/python/site-packages/ipykernel_launcher.py:96: RuntimeWarning: invalid value encountered in divide\n"
     ]
    }
   ],
   "source": [
    "SB_filename = '/Users/Jonathan/Desktop/Projects/PHD_code/RAiSE_files/surfbright_A=4.00_eq=2.00_H=14.00_Q=37.00_s=2.40_z=0.10_dVar=1_nu=10.18.dat'\n",
    "LD_filename = '/Users/Jonathan/Desktop/Projects/PHD_code/RAiSE_files/LD_A=4.00_eq=2.00_H=14.00_Q=37.00_s=2.40_z=0.10_dVar=1.dat'\n",
    "\n",
    "#SB_filename = '/Users/Jonathan/Desktop/Projects/PHD_code/RAiSE_files/SurfBright/surfbright_H=14.00_Q=37.00_z=0.75/surfbright_A=4.00_eq=2.00_H=14.00_Q=37.00_s=2.40_z=0.75_dVar=1_nu=9.68.dat'\n",
    "#LD_filename = '/Users/Jonathan/Desktop/Projects/PHD_code/RAiSE_files/LDtracks/LD_H=14.00_Q=37.00_z=0.75/LD_A=4.00_eq=2.00_H=14.00_Q=37.00_s=2.40_z=0.75_dVar=1.dat'\n",
    "\n",
    "z = 0.75 #From LD loop, which comes before the SB loop\n",
    "freq = 9.68 #From LD loop, which comes before the SB loop\n",
    "age =  31622776.6017\n",
    "\n",
    "#This is a new parameter that the user must set. or is the beam diameter calculated off of the baseline?\n",
    "beam_diameter = 1.0 #arcsec\n",
    "\n",
    "raise_simulation = raise_sim(SB_filename,LD_filename,z,age,freq,1.0)"
   ]
  },
  {
   "cell_type": "code",
   "execution_count": 12,
   "metadata": {},
   "outputs": [
    {
     "data": {
      "text/plain": [
       "1.0"
      ]
     },
     "execution_count": 12,
     "metadata": {},
     "output_type": "execute_result"
    }
   ],
   "source": [
    "raise_simulation.beam_diameter #needs to have units arcsec\n",
    "\n",
    "\n"
   ]
  },
  {
   "cell_type": "code",
   "execution_count": 13,
   "metadata": {},
   "outputs": [
    {
     "data": {
      "image/png": "[encoded data removed]",
      "text/plain": [
       "<matplotlib.figure.Figure at 0x10ac01b50>"
      ]
     },
     "metadata": {},
     "output_type": "display_data"
    }
   ],
   "source": [
    "import numpy as np\n",
    "import matplotlib.pyplot as plt\n",
    "plt.imshow(np.log10(raise_simulation.flux_beam_normalised.value))\n",
    "plt.colorbar()\n",
    "plt.show()\n"
   ]
  },
  {
   "cell_type": "code",
   "execution_count": null,
   "metadata": {
    "collapsed": true
   },
   "outputs": [],
   "source": []
  }
 ],
 "metadata": {
  "kernelspec": {
   "display_name": "Python 2",
   "language": "python",
   "name": "python2"
  },
  "language_info": {
   "codemirror_mode": {
    "name": "ipython",
    "version": 2
   },
   "file_extension": ".py",
   "mimetype": "text/x-python",
   "name": "python",
   "nbconvert_exporter": "python",
   "pygments_lexer": "ipython2",
   "version": "2.7.13"
  }
 },
 "nbformat": 4,
 "nbformat_minor": 2
}
