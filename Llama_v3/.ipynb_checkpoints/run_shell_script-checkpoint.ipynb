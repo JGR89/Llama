{
 "cells": [
  {
   "cell_type": "code",
   "execution_count": 27,
   "metadata": {},
   "outputs": [],
   "source": [
    "def run_shell_script(fname):\n",
    "    \"\"\"\n",
    "    shell script must have correct shebang.\n",
    "    For me, this is #!/bin/bash\n",
    "    \"\"\"\n",
    "    if type(fname) != str:\n",
    "        raise TypeError('Input must be a string')\n",
    "    \n",
    "    import subprocess\n",
    "    import os\n",
    "    \n",
    "    #Make script executable \n",
    "    os.system('chmod +x {}'.format(fname))\n",
    "    \n",
    "    #Run it\n",
    "    subprocess.call(['./{}'.format(fname)])\n",
    "    \n",
    "    return"
   ]
  },
  {
   "cell_type": "code",
   "execution_count": 28,
   "metadata": {},
   "outputs": [
    {
     "name": "stdout",
     "output_type": "stream",
     "text": [
      "/Users/Jonathan/Desktop/Projects/PHD_code/Llama_v2\r\n"
     ]
    }
   ],
   "source": [
    "!pwd"
   ]
  },
  {
   "cell_type": "code",
   "execution_count": 30,
   "metadata": {},
   "outputs": [],
   "source": [
    "run_shell_script('TestShellScript.sh')"
   ]
  },
  {
   "cell_type": "code",
   "execution_count": null,
   "metadata": {
    "collapsed": true
   },
   "outputs": [],
   "source": []
  }
 ],
 "metadata": {
  "kernelspec": {
   "display_name": "Python 2",
   "language": "python",
   "name": "python2"
  },
  "language_info": {
   "codemirror_mode": {
    "name": "ipython",
    "version": 2
   },
   "file_extension": ".py",
   "mimetype": "text/x-python",
   "name": "python",
   "nbconvert_exporter": "python",
   "pygments_lexer": "ipython2",
   "version": "2.7.13"
  }
 },
 "nbformat": 4,
 "nbformat_minor": 2
}
